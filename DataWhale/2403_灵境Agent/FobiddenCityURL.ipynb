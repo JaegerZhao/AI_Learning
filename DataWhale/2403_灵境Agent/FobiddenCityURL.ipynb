{
 "cells": [
  {
   "cell_type": "code",
   "execution_count": null,
   "metadata": {},
   "outputs": [],
   "source": [
    "import requests\n",
    "from bs4 import BeautifulSoup\n",
    "\n",
    "# Function to get building links from a single page\n",
    "def get_building_links(url):\n",
    "    response = requests.get(url)\n",
    "    soup = BeautifulSoup(response.content, 'html.parser')\n",
    "    building_links = soup.find_all('a', href=True)\n",
    "    return [link for link in building_links if '/explore/building/' in link['href']]\n",
    "\n",
    "# Function to write building links to a file\n",
    "def write_links_to_file(links, file_name):\n",
    "    with open(file_name, 'a', encoding='utf-8') as file:\n",
    "        for link in links:\n",
    "            building_name = link.text.strip()\n",
    "            building_url = f\"https://www.dpm.org.cn{link['href']}\"\n",
    "            file.write(f\"{building_url}\\n\")\n",
    "\n",
    "# Base URL for pagination\n",
    "base_url = \"https://www.dpm.org.cn/searchs/buildings/category_id/73/sort/sortrank/qj/0/p\"\n",
    "\n",
    "# Start with the first page\n",
    "page_number = 1\n",
    "\n",
    "# Maximum number of pages to scrape\n",
    "max_pages = 12  # Adjust this number based on the actual number of pages\n",
    "\n",
    "# Loop through pages until the maximum page number is reached\n",
    "for page_number in range(1, max_pages + 1):\n",
    "    # Construct the URL for the current page\n",
    "    page_url = f\"{base_url}/{page_number}.html\"\n",
    "    \n",
    "    # Get building links from the current page\n",
    "    links = get_building_links(page_url)\n",
    "    \n",
    "    # Write the links to the file\n",
    "    write_links_to_file(links, 'building_links.txt')\n",
    "\n",
    "# Print a success message\n",
    "print(\"All building links have been successfully saved to building_links.txt\")"
   ]
  },
  {
   "cell_type": "code",
   "execution_count": 1,
   "metadata": {},
   "outputs": [
    {
     "name": "stdout",
     "output_type": "stream",
     "text": [
      "All lineages links have been successfully saved to lineages_links.txt\n"
     ]
    }
   ],
   "source": [
    "import requests\n",
    "from bs4 import BeautifulSoup\n",
    "\n",
    "# URL of the webpage to scrape\n",
    "url = \"https://www.dpm.org.cn/court/lineages.html\"\n",
    "\n",
    "# Send a GET request to the webpage\n",
    "response = requests.get(url)\n",
    "\n",
    "# Parse the HTML content of the page using BeautifulSoup\n",
    "soup = BeautifulSoup(response.content, 'html.parser')\n",
    "\n",
    "# Find all person links\n",
    "lineages_links = soup.find_all('a', href=True)\n",
    "\n",
    "# Filter out links that do not contain '/court/lineage/'\n",
    "lineages_links = [link for link in lineages_links if '/court/lineage/' in link['href']]\n",
    "\n",
    "# Open a file to write the person names and URLs\n",
    "with open('lineages_links.txt', 'w', encoding='utf-8') as file:\n",
    "    # Format and write the building names and URLs to the file\n",
    "    for link in lineages_links:\n",
    "        person_name = link.text.strip()\n",
    "        person_url = f\"https://www.dpm.org.cn{link['href']}\"\n",
    "        file.write(f\"{person_url}\\n\")\n",
    "\n",
    "# Print a success message\n",
    "print(\"All lineages links have been successfully saved to lineages_links.txt\")\n"
   ]
  }
 ],
 "metadata": {
  "kernelspec": {
   "display_name": "base",
   "language": "python",
   "name": "python3"
  },
  "language_info": {
   "codemirror_mode": {
    "name": "ipython",
    "version": 3
   },
   "file_extension": ".py",
   "mimetype": "text/x-python",
   "name": "python",
   "nbconvert_exporter": "python",
   "pygments_lexer": "ipython3",
   "version": "3.11.5"
  }
 },
 "nbformat": 4,
 "nbformat_minor": 2
}
